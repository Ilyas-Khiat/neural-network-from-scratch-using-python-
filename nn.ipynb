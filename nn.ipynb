{
 "cells": [
  {
   "cell_type": "code",
   "execution_count": 33,
   "metadata": {},
   "outputs": [],
   "source": [
    "import numpy as np\n",
    "import matplotlib.pyplot as plt\n",
    "from sklearn.datasets import make_circles\n",
    "from sklearn.metrics import accuracy_score,log_loss\n",
    "from tqdm import notebook\n",
    "%matplotlib inline"
   ]
  },
  {
   "cell_type": "code",
   "execution_count": 34,
   "metadata": {},
   "outputs": [],
   "source": [
    "def init_couche(n0,n1):#n0 : nombre d'entree , n1 : nombre de perceptron\n",
    "    W= np.random.randn(n1,n0)\n",
    "    b=np.random.randn(n1,1)\n",
    "    return W,b"
   ]
  },
  {
   "cell_type": "code",
   "execution_count": 35,
   "metadata": {},
   "outputs": [],
   "source": [
    "def init_reseau(couches):\n",
    "    #prend comme argument une liste de longueur le nombre de couche, \n",
    "    # chaque element est le nombre de percetron de la couche numero l'index de l'element, couche[0] nombre d'entree\n",
    "    parametres={}\n",
    "    for i in range(1,len(couches)):\n",
    "        W,b=init_couche(couches[i-1],couches[i])\n",
    "        parametres[f'W{i}']=W\n",
    "        parametres[f'b{i}']=b\n",
    "    return parametres\n",
    "\n"
   ]
  },
  {
   "cell_type": "code",
   "execution_count": 36,
   "metadata": {},
   "outputs": [],
   "source": [
    "def activation_couche(X,W,b): ##### fonction d'activation, la fonction prise dans cet exemple est sigmoid\n",
    "    Z=W.dot(X)+b\n",
    "    A=1/(1+np.exp(-Z))\n",
    "    return A"
   ]
  },
  {
   "cell_type": "code",
   "execution_count": 37,
   "metadata": {},
   "outputs": [],
   "source": [
    "def forward_propagation(X,parametres):\n",
    "    nbre_couche=len(parametres)//2\n",
    "    activations={'A0':X}\n",
    "    for i in range(1,nbre_couche+1):\n",
    "        activations[f'A{i}']=activation_couche(activations[f'A{i-1}'],\n",
    "                                               parametres[f'W{i}'],parametres[f'b{i}'])\n",
    "    return activations"
   ]
  },
  {
   "cell_type": "code",
   "execution_count": 38,
   "metadata": {},
   "outputs": [],
   "source": [
    "def back_propagation(y,activations,parametres): #calcul des gradients de la fonction cout , la fonction utilisee c'est LOG LOSS\n",
    "    nbre_images=y.shape[1]\n",
    "    nbre_couche=len(parametres)//2\n",
    "\n",
    "    dZ=activations[f'A{nbre_couche}']-y\n",
    "    gradients={}\n",
    "\n",
    "    for i in range(nbre_couche,0,-1):\n",
    "        gradients[f'dW{i}']=1/nbre_images*dZ.dot(np.transpose(activations[f'A{i-1}']))\n",
    "        gradients[f'db{i}']=1/nbre_couche*np.sum(dZ,axis=1,keepdims=True)\n",
    "        dZ=np.dot(parametres[f'W{i}'].T,dZ) * activations[f'A{i-1}'] *(1-activations[f'A{i-1}'])\n",
    "    \n",
    "    return gradients"
   ]
  },
  {
   "cell_type": "code",
   "execution_count": 39,
   "metadata": {},
   "outputs": [],
   "source": [
    "def update(gradients,parametres,learning_rate): #mettre a jour les poids des perceptrons\n",
    "    nbre_couche=len(parametres)//2\n",
    "    for i in range(1,nbre_couche+1):\n",
    "        parametres[f'W{i}']=parametres[f'W{i}']-learning_rate*gradients[f'dW{i}']\n",
    "        parametres[f'b{i}']=parametres[f'b{i}']-learning_rate*gradients[f'db{i}']\n",
    "    return parametres"
   ]
  },
  {
   "cell_type": "code",
   "execution_count": 40,
   "metadata": {},
   "outputs": [],
   "source": [
    "def prediction(X,parametres): # cette fonction sert apres l'apprentissage, elle retourne la valeur d'activation calculee grace a la forward propagation du percetron de la derniere couche\n",
    "    return forward_propagation(X,parametres)[f'A{len(parametres)//2}']>=0.5"
   ]
  },
  {
   "cell_type": "code",
   "execution_count": 41,
   "metadata": {},
   "outputs": [],
   "source": [
    "def reseau_neurones(X,y,couches_cachee,learning_rate,iteration):### la fonction main qui creer un reseaux de neurone et fait son apprentissage selon la data et les parametre donnes \n",
    "\n",
    "    # X , y : Data\n",
    "    # couche_cachee: nombre de couches du reseaux - 2\n",
    "\n",
    "    couches=[X.shape[0]]+couches_cachee+[y.shape[0]]\n",
    "    parametres=init_reseau(couches)\n",
    "\n",
    "    erreur_apprentissage=[]\n",
    "    precision_apprentissage=[]\n",
    "    \n",
    "    for i in notebook.tqdm(range(iteration)):\n",
    "        activations=forward_propagation(X,parametres)\n",
    "        gradients=back_propagation(y,activations,parametres)\n",
    "        parametres=update(gradients,parametres,learning_rate)\n",
    "\n",
    "        if i % 10 == 0:\n",
    "            erreur_actuelle=log_loss(y.flatten(),activations[f'A{len(parametres)//2}'].flatten())\n",
    "            erreur_apprentissage.append(erreur_actuelle)\n",
    "            y_pred=prediction(X,parametres)\n",
    "            precision_actuelle=accuracy_score(y.flatten(),y_pred.flatten())\n",
    "            precision_apprentissage.append(precision_actuelle)\n",
    "\n",
    "    return parametres,erreur_apprentissage,precision_apprentissage"
   ]
  },
  {
   "cell_type": "code",
   "execution_count": 85,
   "metadata": {},
   "outputs": [
    {
     "name": "stdout",
     "output_type": "stream",
     "text": [
      "dim X: (2, 100)\n",
      "dim y: (1, 100)\n"
     ]
    },
    {
     "data": {
      "image/png": "[encoded data removed]",
      "text/plain": [
       "<Figure size 432x288 with 1 Axes>"
      ]
     },
     "metadata": {
      "needs_background": "light"
     },
     "output_type": "display_data"
    }
   ],
   "source": [
    "####################################################################################\n",
    "########## EXEMPLE DE DATA AVEC UNE DISTRIUTION COMPLEXE A CLASSIFIER ##############\n",
    "\n",
    "#la distribtuion choisie dans cet exemple est circulaire\n",
    "\n",
    "X,y=make_circles(n_samples=100,noise=0.2,factor=0.3,random_state=2)\n",
    "X=X.T\n",
    "y=y.reshape((1,y.shape[0]))\n",
    "print(f'dim X: {X.shape}\\ndim y: {y.shape}')\n",
    "plt.scatter(X[0,:],X[1,:],c=y,cmap='winter') #### le vert correspond a y = 1 et bleu 0\n",
    "plt.show()"
   ]
  },
  {
   "cell_type": "code",
   "execution_count": 43,
   "metadata": {},
   "outputs": [
    {
     "name": "stdout",
     "output_type": "stream",
     "text": [
      "W1 (3, 2)\n",
      "b1 (3, 1)\n",
      "W2 (3, 3)\n",
      "b2 (3, 1)\n",
      "W3 (1, 3)\n",
      "b3 (1, 1)\n"
     ]
    }
   ],
   "source": [
    "##### initialisation d'un reseaux de neurone et avec 2 hidden layers de 3 perceptron chacunes puis verfication des dimensions des couches#####\n",
    "couches=[X.shape[0]]+[3,3]+[y.shape[0]]\n",
    "parametres=init_reseau(couches)\n",
    "\n",
    "for key,val in parametres.items():\n",
    "    print(key,val.shape)"
   ]
  },
  {
   "cell_type": "code",
   "execution_count": 44,
   "metadata": {},
   "outputs": [
    {
     "name": "stdout",
     "output_type": "stream",
     "text": [
      "A0 (2, 100)\n",
      "A1 (3, 100)\n",
      "A2 (3, 100)\n",
      "A3 (1, 100)\n"
     ]
    }
   ],
   "source": [
    "activations=forward_propagation(X,parametres)\n",
    "for key,val in activations.items():\n",
    "    print(key,val.shape)"
   ]
  },
  {
   "cell_type": "code",
   "execution_count": 45,
   "metadata": {},
   "outputs": [
    {
     "name": "stdout",
     "output_type": "stream",
     "text": [
      "dW3 (1, 3)\n",
      "db3 (1, 1)\n",
      "dW2 (3, 3)\n",
      "db2 (3, 1)\n",
      "dW1 (3, 2)\n",
      "db1 (3, 1)\n"
     ]
    }
   ],
   "source": [
    "gradients=back_propagation(y,activations,parametres)\n",
    "for key,val in gradients.items():\n",
    "    print(key,val.shape)"
   ]
  },
  {
   "cell_type": "code",
   "execution_count": 52,
   "metadata": {},
   "outputs": [
    {
     "data": {
      "application/vnd.jupyter.widget-view+json": {
       "model_id": "41798c2fde0c4ba5a50b096433000b61",
       "version_major": 2,
       "version_minor": 0
      },
      "text/plain": [
       "  0%|          | 0/100000 [00:00<?, ?it/s]"
      ]
     },
     "metadata": {},
     "output_type": "display_data"
    }
   ],
   "source": [
    "'''tester le modele avec 2 couches de 16 perceptrons chacune et un taux d'aprentissage de 0.01 avec 100 000 iterations '''\n",
    "parametres=reseau_neurones(X,y,[16,16],learning_rate=0.01,iteration=100000)"
   ]
  },
  {
   "cell_type": "code",
   "execution_count": 91,
   "metadata": {},
   "outputs": [
    {
     "data": {
      "text/plain": [
       "[<matplotlib.lines.Line2D at 0x257044bb520>]"
      ]
     },
     "execution_count": 91,
     "metadata": {},
     "output_type": "execute_result"
    },
    {
     "data": {
      "image/png": "[encoded data removed]",
      "text/plain": [
       "<Figure size 432x288 with 2 Axes>"
      ]
     },
     "metadata": {
      "needs_background": "light"
     },
     "output_type": "display_data"
    }
   ],
   "source": [
    "poids, erreur , precision = parametres\n",
    "fig, (ax_erreur, ax_precision) = plt.subplots(1, 2)\n",
    "fig.suptitle(\"evolution du modele\")\n",
    "ax_erreur.plot(erreur)\n",
    "ax_precision.plot(precision)"
   ]
  },
  {
   "cell_type": "code",
   "execution_count": 92,
   "metadata": {},
   "outputs": [
    {
     "data": {
      "text/plain": [
       "array([[ True]])"
      ]
     },
     "execution_count": 92,
     "metadata": {},
     "output_type": "execute_result"
    },
    {
     "data": {
      "image/png": "[encoded data removed]",
      "text/plain": [
       "<Figure size 432x288 with 1 Axes>"
      ]
     },
     "metadata": {
      "needs_background": "light"
     },
     "output_type": "display_data"
    }
   ],
   "source": [
    "#### test ####\n",
    "element = np.array([[0.5,0]]).T\n",
    "plt.scatter(X[0,:],X[1,:],c=y,cmap='winter') #### le vert correspond a y = 1 et bleu 0\n",
    "plt.plot(element[0,:],element[1,:],'ro')\n",
    "prediction(element,poids)"
   ]
  }
 ],
 "metadata": {
  "interpreter": {
   "hash": "2043299c89c8cd0b4d1a6f5cf4529bd58e6a4e0fe3181a25e0d328c821cdc5c5"
  },
  "kernelspec": {
   "display_name": "Python 3.8.3 ('base')",
   "language": "python",
   "name": "python3"
  },
  "language_info": {
   "codemirror_mode": {
    "name": "ipython",
    "version": 3
   },
   "file_extension": ".py",
   "mimetype": "text/x-python",
   "name": "python",
   "nbconvert_exporter": "python",
   "pygments_lexer": "ipython3",
   "version": "3.8.3"
  },
  "orig_nbformat": 4
 },
 "nbformat": 4,
 "nbformat_minor": 2
}
